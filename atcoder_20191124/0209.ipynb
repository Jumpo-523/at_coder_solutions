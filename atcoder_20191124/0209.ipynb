{
 "cells": [
  {
   "cell_type": "markdown",
   "metadata": {},
   "source": [
    "https://atcoder.jp/contests/abc154/"
   ]
  },
  {
   "cell_type": "markdown",
   "metadata": {},
   "source": [
    "A. \n",
    "\n",
    "- input\n",
    "\n",
    "```\n",
    "red blue\n",
    "5 5\n",
    "blue\n",
    "```\n",
    "\n",
    "基本簡単"
   ]
  },
  {
   "cell_type": "code",
   "execution_count": null,
   "metadata": {},
   "outputs": [],
   "source": [
    "S, T= input().split()\n",
    "n_s, n_t = list(map(int, input().split()))\n",
    "U = input()\n",
    "if U == S:\n",
    "    n_s -= 1\n",
    "else:\n",
    "    n_t -= 1\n",
    "print(str(n_s) + ' ' + str(n_t))"
   ]
  },
  {
   "cell_type": "markdown",
   "metadata": {},
   "source": [
    "B.　文字列を'x'で置き換えろ"
   ]
  },
  {
   "cell_type": "code",
   "execution_count": 1,
   "metadata": {},
   "outputs": [
    {
     "data": {
      "text/plain": [
       "'xxxxx'"
      ]
     },
     "execution_count": 1,
     "metadata": {},
     "output_type": "execute_result"
    }
   ],
   "source": [
    "st = \"zgone\" # input()\n",
    "nc = len(st)\n",
    "print(\"x\"*nc)"
   ]
  },
  {
   "cell_type": "markdown",
   "metadata": {},
   "source": [
    "C.\n",
    "整数列 $A_n$ が与えられます。 この整数列のどの 2 つの要素も互いに異なるならば YES を、そうでないなら NO を出力してください。"
   ]
  },
  {
   "cell_type": "code",
   "execution_count": 3,
   "metadata": {},
   "outputs": [],
   "source": [
    "5\n",
    "inpt = '2 6 1 4 5'"
   ]
  },
  {
   "cell_type": "code",
   "execution_count": 5,
   "metadata": {},
   "outputs": [
    {
     "name": "stdout",
     "output_type": "stream",
     "text": [
      "YES\n"
     ]
    }
   ],
   "source": [
    "n =5 # int(input())\n",
    "a_n = set(map(int, inpt.split()))\n",
    "\n",
    "if n==len(a_n):\n",
    "    print(\"YES\")\n",
    "else:\n",
    "    print(\"NO\")"
   ]
  },
  {
   "cell_type": "markdown",
   "metadata": {},
   "source": [
    "N 個のサイコロが左から右に一列に並べてあります。左から i 番目のサイコロは 1から $p_i$ までの \n",
    "$p_i$ 種類の目がそれぞれ等確率で出ます。\n",
    "\n",
    "隣接する K 個のサイコロを選んでそれぞれ独立に振ったとき、出る目の合計の期待値の最大値を求めてください。"
   ]
  },
  {
   "cell_type": "code",
   "execution_count": 6,
   "metadata": {},
   "outputs": [
    {
     "data": {
      "text/plain": [
       "'10 4\\n17 13 13 12 15 20 10 13 17 11'"
      ]
     },
     "execution_count": 6,
     "metadata": {},
     "output_type": "execute_result"
    }
   ],
   "source": [
    " = '''10 4\"\"\"\n",
    "'17 13 13 12 15 20 10 13 17 11'"
   ]
  },
  {
   "cell_type": "code",
   "execution_count": 21,
   "metadata": {},
   "outputs": [],
   "source": [
    "n, k = list(map(int, '10 4'.split()))\n",
    "\n",
    "p_list= list(map(int, '17 13 13 12 15 20 10 13 17 11'.split()))\n",
    "\n",
    "# p_list = [(p+1)/2 for p in p_list]\n",
    "max_sump = 0\n",
    "for i in range(n-k+1):\n",
    "    sump_candidate = sum(p_list[i:i+k]) \n",
    "    max_sump = sump_candidate if sump_candidate >= max_sump else max_sump"
   ]
  },
  {
   "cell_type": "code",
   "execution_count": 22,
   "metadata": {},
   "outputs": [
    {
     "data": {
      "text/plain": [
       "(6, 10)"
      ]
     },
     "execution_count": 22,
     "metadata": {},
     "output_type": "execute_result"
    }
   ],
   "source": [
    "i, i+k"
   ]
  },
  {
   "cell_type": "code",
   "execution_count": 23,
   "metadata": {},
   "outputs": [
    {
     "data": {
      "text/plain": [
       "[5.5, 7.0, 9.0, 6.0]"
      ]
     },
     "execution_count": 23,
     "metadata": {},
     "output_type": "execute_result"
    }
   ],
   "source": [
    "p_list[i:i+k]"
   ]
  },
  {
   "cell_type": "markdown",
   "metadata": {},
   "source": [
    "E. \n",
    "\n",
    "1以上 N 以下の整数であって、 10 進法で表したときに、0 でない数字がちょうど K 個あるようなものの個数を求めてください。\n",
    "\n",
    "\n",
    "- 実装方針\n",
    "    - 左端（一番大きい位）は０が来てはいけない。\n",
    "    - 左端の数のみ気をつけた上で、\n",
    "        - length (= len(str(N))) の中からK個の０でない数字を選ぶ組み合わせ問題\n",
    "        - 左端を除いたK-1個の数は９通りある。"
   ]
  },
  {
   "cell_type": "code",
   "execution_count": 24,
   "metadata": {},
   "outputs": [],
   "source": [
    "N = 9999999999999999999999999999999999\n",
    "K = 3"
   ]
  },
  {
   "cell_type": "code",
   "execution_count": 28,
   "metadata": {},
   "outputs": [
    {
     "data": {
      "text/plain": [
       "34"
      ]
     },
     "execution_count": 28,
     "metadata": {},
     "output_type": "execute_result"
    }
   ],
   "source": [
    "length = len(str(N))\n",
    "count = \n",
    "for _ in range(K):\n",
    "     count *= 9"
   ]
  },
  {
   "cell_type": "code",
   "execution_count": null,
   "metadata": {},
   "outputs": [],
   "source": []
  }
 ],
 "metadata": {
  "kernelspec": {
   "display_name": "Python 3",
   "language": "python",
   "name": "python3"
  },
  "language_info": {
   "codemirror_mode": {
    "name": "ipython",
    "version": 3
   },
   "file_extension": ".py",
   "mimetype": "text/x-python",
   "name": "python",
   "nbconvert_exporter": "python",
   "pygments_lexer": "ipython3",
   "version": "3.7.4"
  }
 },
 "nbformat": 4,
 "nbformat_minor": 2
}
